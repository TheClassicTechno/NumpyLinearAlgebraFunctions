{
  "nbformat": 4,
  "nbformat_minor": 0,
  "metadata": {
    "colab": {
      "provenance": [],
      "authorship_tag": "ABX9TyNv1LdB4nRivMW9crMxbrmt",
      "include_colab_link": true
    },
    "kernelspec": {
      "name": "python3",
      "display_name": "Python 3"
    },
    "language_info": {
      "name": "python"
    }
  },
  "cells": [
    {
      "cell_type": "markdown",
      "metadata": {
        "id": "view-in-github",
        "colab_type": "text"
      },
      "source": [
        "<a href=\"https://colab.research.google.com/github/TheClassicTechno/NumpyLinearAlgebraFunctions/blob/main/Linear_Algebra_Numpy_Functions.ipynb\" target=\"_parent\"><img src=\"https://colab.research.google.com/assets/colab-badge.svg\" alt=\"Open In Colab\"/></a>"
      ]
    },
    {
      "cell_type": "markdown",
      "source": [
        "#Linear Algebra Numpy Functions\n",
        "\n",
        "##by Julia Huang\n",
        "\n",
        "##as I have just finished my college-level linear algebra course, in order to improve my knowledge of both linear algebra and the Python Numpy library, I have tested some of these numpy functions below with linear algebra tasks.\n",
        "\n",
        "numpy link: https://numpy.org/doc/stable/reference/generated/numpy.linalg.eig.html"
      ],
      "metadata": {
        "id": "L3uCWxEFZ1xL"
      }
    },
    {
      "cell_type": "markdown",
      "source": [
        "#Numpy\n",
        "\n",
        "numpy is a library that has methods that work with arrays conveniently."
      ],
      "metadata": {
        "id": "on2rxwq4tEAd"
      }
    },
    {
      "cell_type": "markdown",
      "source": [
        "##types of arrays"
      ],
      "metadata": {
        "id": "WkMIu0W0tUxp"
      }
    },
    {
      "cell_type": "code",
      "source": [
        "import numpy as np"
      ],
      "metadata": {
        "id": "KvRmEvKuaPo_"
      },
      "execution_count": 29,
      "outputs": []
    },
    {
      "cell_type": "code",
      "source": [
        "d = np.arange(10,25,10) #array range from 10, 25 and step size is 10\n",
        "d\n",
        "\n",
        " #in this case, only 10, 20 fit within step size 10 and within the range 10-25"
      ],
      "metadata": {
        "colab": {
          "base_uri": "https://localhost:8080/"
        },
        "id": "UDUAPDyQtWCS",
        "outputId": "c2966e32-e192-489b-ac2c-0399149b787a"
      },
      "execution_count": 49,
      "outputs": [
        {
          "output_type": "execute_result",
          "data": {
            "text/plain": [
              "array([10, 20])"
            ]
          },
          "metadata": {},
          "execution_count": 49
        }
      ]
    },
    {
      "cell_type": "code",
      "source": [
        "np.linspace(0,2,3)  #array range from 0, 2, # of elements inside array dictated by last number\n",
        "\n",
        " #in this case, 0, 1, 2 makes the array length 3 and also 0, 1, 2 fit within range 0-2"
      ],
      "metadata": {
        "colab": {
          "base_uri": "https://localhost:8080/"
        },
        "id": "eHIbX0DBtvML",
        "outputId": "d8e0791a-2b69-4f4b-fec1-4164d62c79a5"
      },
      "execution_count": 50,
      "outputs": [
        {
          "output_type": "execute_result",
          "data": {
            "text/plain": [
              "array([0., 1., 2.])"
            ]
          },
          "metadata": {},
          "execution_count": 50
        }
      ]
    },
    {
      "cell_type": "code",
      "source": [
        "e = np.full((2,2),8)\n",
        "e\n",
        "#constant array all the same values\n",
        "\n",
        "e+1"
      ],
      "metadata": {
        "colab": {
          "base_uri": "https://localhost:8080/"
        },
        "id": "aOHOoStZuHva",
        "outputId": "a69f6645-5dcb-440c-8ee3-c11066b34aa0"
      },
      "execution_count": 45,
      "outputs": [
        {
          "output_type": "execute_result",
          "data": {
            "text/plain": [
              "array([[9, 9],\n",
              "       [9, 9]])"
            ]
          },
          "metadata": {},
          "execution_count": 45
        }
      ]
    },
    {
      "cell_type": "markdown",
      "source": [
        "###identity matrix - np.eye(x), where x is size of array"
      ],
      "metadata": {
        "id": "bolBDJXBuYw-"
      }
    },
    {
      "cell_type": "code",
      "source": [
        "f = np.eye(3)  \n",
        "f"
      ],
      "metadata": {
        "colab": {
          "base_uri": "https://localhost:8080/"
        },
        "id": "tn49AyKnuROo",
        "outputId": "d06a255b-5a6d-4375-ee1b-60ad42ed94ac"
      },
      "execution_count": 53,
      "outputs": [
        {
          "output_type": "execute_result",
          "data": {
            "text/plain": [
              "array([[1., 0., 0.],\n",
              "       [0., 1., 0.],\n",
              "       [0., 0., 1.]])"
            ]
          },
          "metadata": {},
          "execution_count": 53
        }
      ]
    },
    {
      "cell_type": "code",
      "source": [
        "rand=np.random.random((2,3))  #random array, size 2x3, random values 0-1\n",
        "\n",
        "rand"
      ],
      "metadata": {
        "colab": {
          "base_uri": "https://localhost:8080/"
        },
        "id": "WqzHM6VGuRXt",
        "outputId": "b6c5e7b6-1fac-45e9-d061-4596c47bd5eb"
      },
      "execution_count": 94,
      "outputs": [
        {
          "output_type": "execute_result",
          "data": {
            "text/plain": [
              "array([[0.96300286, 0.91406632, 0.80108461],\n",
              "       [0.1737645 , 0.57628835, 0.95940785]])"
            ]
          },
          "metadata": {},
          "execution_count": 94
        }
      ]
    },
    {
      "cell_type": "code",
      "source": [
        "rand.astype(int) #try to convert decimal rand array into integers only which all shorten cut off to 0 "
      ],
      "metadata": {
        "colab": {
          "base_uri": "https://localhost:8080/"
        },
        "id": "7H-PnZjou4e1",
        "outputId": "1b207ccf-aaf5-47bd-eedd-fb83270d6dbd"
      },
      "execution_count": 95,
      "outputs": [
        {
          "output_type": "execute_result",
          "data": {
            "text/plain": [
              "array([[0, 0, 0],\n",
              "       [0, 0, 0]])"
            ]
          },
          "metadata": {},
          "execution_count": 95
        }
      ]
    },
    {
      "cell_type": "markdown",
      "source": [
        "###difference between .shape , len() , .size , .ndim"
      ],
      "metadata": {
        "id": "m54dBtOXvFY8"
      }
    },
    {
      "cell_type": "code",
      "source": [
        "rand.shape #full dimensions of array"
      ],
      "metadata": {
        "colab": {
          "base_uri": "https://localhost:8080/"
        },
        "id": "0mx1pqLCu_-g",
        "outputId": "6de08494-93fc-43ce-ad62-e860c21b6b2c"
      },
      "execution_count": 96,
      "outputs": [
        {
          "output_type": "execute_result",
          "data": {
            "text/plain": [
              "(2, 3)"
            ]
          },
          "metadata": {},
          "execution_count": 96
        }
      ]
    },
    {
      "cell_type": "code",
      "source": [
        "len(rand) #length of array = #rows or 1st number in .shape of array"
      ],
      "metadata": {
        "colab": {
          "base_uri": "https://localhost:8080/"
        },
        "id": "WWaeODbavBbf",
        "outputId": "d0b6c910-b4b3-4821-c8fa-c52bc7cabb83"
      },
      "execution_count": 97,
      "outputs": [
        {
          "output_type": "execute_result",
          "data": {
            "text/plain": [
              "2"
            ]
          },
          "metadata": {},
          "execution_count": 97
        }
      ]
    },
    {
      "cell_type": "code",
      "source": [
        "rand.size #elements in the entire array , which is 6 elements. or can figure out size by multiplying shape numbers (2x3=6)"
      ],
      "metadata": {
        "colab": {
          "base_uri": "https://localhost:8080/"
        },
        "id": "b18w14yrvZ4B",
        "outputId": "4edc97c7-e7fe-4b2e-8316-7ba16090fdb1"
      },
      "execution_count": 98,
      "outputs": [
        {
          "output_type": "execute_result",
          "data": {
            "text/plain": [
              "6"
            ]
          },
          "metadata": {},
          "execution_count": 98
        }
      ]
    },
    {
      "cell_type": "code",
      "source": [
        "rand.ndim #actual dimensions of array, like if its a 2d, 3d, or 1d array. if shape is (2,3)==>2D, if shape is (2,3,3)==>3D"
      ],
      "metadata": {
        "colab": {
          "base_uri": "https://localhost:8080/"
        },
        "id": "gHBykvclvnrj",
        "outputId": "0f73d95b-7d52-4eee-9a7b-3e4044a50b46"
      },
      "execution_count": 99,
      "outputs": [
        {
          "output_type": "execute_result",
          "data": {
            "text/plain": [
              "2"
            ]
          },
          "metadata": {},
          "execution_count": 99
        }
      ]
    },
    {
      "cell_type": "markdown",
      "source": [
        "##matrix operations\n",
        "\n",
        "+, -, x, etc"
      ],
      "metadata": {
        "id": "SAys_EWewPlM"
      }
    },
    {
      "cell_type": "code",
      "source": [
        "a = [[1, 0], \n",
        "     [0, 1]]\n",
        "     \n",
        "b = [[4, 1], \n",
        "     [2, 2]]\n",
        "\n",
        "#a-b #only works with numpy matrices not regular ones\n",
        "\n",
        "a = np.array([1,2,3])\n",
        "b = np.array([0,1,0])\n",
        "\n",
        "print(f'subtract: {a-b}')\n",
        "print(f'subtract: {np.subtract(a,b)}') #same as above\n",
        "\n",
        "\n",
        "print(f'add: {a+b}')\n",
        "print(f'add: {np.add(a,b)}') #same as above\n",
        "\n",
        "print(a*b) # similar to element multiplication 1*0, 2*1, 3*0 --> 0 2 0\n",
        "print(np.multiply(a,b))  # similar to element multiplication 1*0, 2*1, 3*0 --> 0 2 0\n",
        "\n",
        "print(np.matmul(a,b)) #actual multiplication of matrices\n",
        "#np.info(np.matmul)"
      ],
      "metadata": {
        "colab": {
          "base_uri": "https://localhost:8080/"
        },
        "id": "qn8rKZKIweBc",
        "outputId": "27efc31b-b1a2-4dc6-f703-a331ee2db65a"
      },
      "execution_count": 137,
      "outputs": [
        {
          "output_type": "stream",
          "name": "stdout",
          "text": [
            "subtract: [1 1 3]\n",
            "subtract: [1 1 3]\n",
            "add: [1 3 3]\n",
            "add: [1 3 3]\n",
            "[0 2 0]\n",
            "[0 2 0]\n",
            "2\n"
          ]
        }
      ]
    },
    {
      "cell_type": "code",
      "source": [
        "a = np.array([[1, 0],\n",
        "               [0, 1]])\n",
        "b = np.array([[4, 1],\n",
        "              [2, 2]])\n",
        "np.matmul(a, b) #matrix multiplication\n"
      ],
      "metadata": {
        "colab": {
          "base_uri": "https://localhost:8080/"
        },
        "id": "hc970rfAFvED",
        "outputId": "098f2b5d-5f37-4bfa-af03-2f29e9d9d67f"
      },
      "execution_count": 134,
      "outputs": [
        {
          "output_type": "execute_result",
          "data": {
            "text/plain": [
              "array([[4, 1],\n",
              "       [2, 2]])"
            ]
          },
          "metadata": {},
          "execution_count": 134
        }
      ]
    },
    {
      "cell_type": "markdown",
      "source": [
        "##e and square roots"
      ],
      "metadata": {
        "id": "3q9BnzC48quz"
      }
    },
    {
      "cell_type": "code",
      "source": [
        "np.exp(a) #e^every element in array"
      ],
      "metadata": {
        "colab": {
          "base_uri": "https://localhost:8080/"
        },
        "id": "ml9fU_z88s5B",
        "outputId": "589977d4-4f8e-41cf-e28c-3479f0db5d02"
      },
      "execution_count": 119,
      "outputs": [
        {
          "output_type": "execute_result",
          "data": {
            "text/plain": [
              "array([ 2.71828183,  7.3890561 , 20.08553692])"
            ]
          },
          "metadata": {},
          "execution_count": 119
        }
      ]
    },
    {
      "cell_type": "code",
      "source": [
        "np.sqrt(a) #sqrt every element in array\n",
        "\n",
        "c = np. array ([[4, 2], \n",
        "     [0, 4],[2,2]])\n",
        "\n",
        "np.sqrt(c)"
      ],
      "metadata": {
        "colab": {
          "base_uri": "https://localhost:8080/"
        },
        "id": "k5UXcSnu8yF4",
        "outputId": "7f18e8f7-3724-44f3-cca4-5c6bc5834c28"
      },
      "execution_count": 125,
      "outputs": [
        {
          "output_type": "execute_result",
          "data": {
            "text/plain": [
              "array([[2.        , 1.41421356],\n",
              "       [0.        , 2.        ],\n",
              "       [1.41421356, 1.41421356]])"
            ]
          },
          "metadata": {},
          "execution_count": 125
        }
      ]
    },
    {
      "cell_type": "markdown",
      "source": [
        "##aggregate functions"
      ],
      "metadata": {
        "id": "gTGxRdNz9Y0P"
      }
    },
    {
      "cell_type": "code",
      "source": [
        "c.sum() #sum all elements in the array"
      ],
      "metadata": {
        "colab": {
          "base_uri": "https://localhost:8080/"
        },
        "id": "7Dq2-612CA6I",
        "outputId": "a7ab88c5-3940-45ff-8837-4d1d76c660b5"
      },
      "execution_count": 126,
      "outputs": [
        {
          "output_type": "execute_result",
          "data": {
            "text/plain": [
              "14"
            ]
          },
          "metadata": {},
          "execution_count": 126
        }
      ]
    },
    {
      "cell_type": "code",
      "source": [
        "c.min() #min element"
      ],
      "metadata": {
        "colab": {
          "base_uri": "https://localhost:8080/"
        },
        "id": "9A4nKSC6CJLy",
        "outputId": "9397b57a-d319-4b78-89c4-2245123a96ae"
      },
      "execution_count": 127,
      "outputs": [
        {
          "output_type": "execute_result",
          "data": {
            "text/plain": [
              "0"
            ]
          },
          "metadata": {},
          "execution_count": 127
        }
      ]
    },
    {
      "cell_type": "markdown",
      "source": [
        "#question why is 2 the max for axis=1 @@"
      ],
      "metadata": {
        "id": "5Lld6XROC1Yl"
      }
    },
    {
      "cell_type": "code",
      "source": [
        "print(c)\n",
        "print(c.max()) #max element\n",
        "\n",
        "print(c.max(axis=0) )#max in each column 4 4\n",
        "\n",
        "print(c.max(axis=1)) #max in each row 4 4 2"
      ],
      "metadata": {
        "colab": {
          "base_uri": "https://localhost:8080/"
        },
        "id": "HmcqghVeCPGz",
        "outputId": "b2d716ea-efb5-4d22-de47-fc332c0e6ded"
      },
      "execution_count": 138,
      "outputs": [
        {
          "output_type": "stream",
          "name": "stdout",
          "text": [
            "[[4 2]\n",
            " [0 4]\n",
            " [2 2]]\n",
            "4\n",
            "[4 4]\n",
            "[4 4 2]\n"
          ]
        }
      ]
    },
    {
      "cell_type": "markdown",
      "source": [
        "##below shows axis 0 and 1 for arrays"
      ],
      "metadata": {
        "id": "G-0vBo-8Cqy7"
      }
    },
    {
      "cell_type": "markdown",
      "source": [
        "![axis.png](data:image/png;base64,iVBORw0KGgoAAAANSUhEUgAAATgAAACgCAMAAACv44DCAAAAZlBMVEX////W1tba2tq5ubnR0dHd3d3g4OD5+fnw8PDCwsKioqI0NDSsrKx6enqOjo78/PyYmJhzc3OEhIQFBQXo6OjKysqysrJCQkJMTExoaGg9PT1hYWFcXFxtbW0sLCwnJycgICASEhJsOcNjAAAH+ElEQVR4nO2dDXviqhKACd+kGEgWqLa12/3/f/IMMVqrXtCcPdXczvts20eZ5uPdISFOSAlBEARBEARBEARBEARBEARBkL+Kc/fegoXCmr05HQJKrOEOP21U00v2+ovfcZOWgBI8OEc1cVxpTVQTw/j+W3PnDXt0+nX/YcjW67TRPSPrzerPaG6N4soo5UwXyKZdBzKYZiunnoviKpjVdt0HIp4iAXFkeFkxld9HcWUkHMs4ZFzfvwoQpxyRf2JOOhRXRvcm9L1uB+U7NUTueVijuGugQ8+MbuGE4IMRivW9GY9yNtx7yxDkL6KkVPfehkWi/JMNqO52XPvxsV6yOn0v2vfnlyWr8/3qPry9PD8/v/xerLr+4+k+ZG9g7ul9WOa4xw7dfdiAuZeXdW+WmXD3w/4eteHHpTei2g/Mtjkou0Ftc3AatSEIgiAIgiDfT/X+pOowtRZQXcMyb5HSurLZ1c98agGqFqB1bRWPSKhtNa2IdbSyAC3/7SY8JN8grpZxKO4yKO4yKO5/gOIug+JmcrrVR5p246tTcaceS+LGIV5B3G4N/x/iRLMf0Coec9uJOMUPowsa8/dTcZrvRakm5oWdiHOS6kPoGLtkcUHCjyAccXHY74axNqlJnKK5aizAmU5+/6vpNTveiRsDnAzEBWv3i7Ym8UmcG9eg4ZuKdq+aGpb0osU1hjEtDMs367ca9jLvZqfIMIlTsIeRRMbyvYY+Cwj5VqO81ztxEMCiM8YIaLRjQFBKu2h24pxkzAQNawBznMLVhJRwyQK/FpYsTrdBJe2F6+QoTpkEqeJV/jeKiwnc6oHoPt9lBKmXUoI9tvuMc9wSynRHZJcTjTgIMCEvx+3EhUR1bKJxhhEdKXzBGhQJrV10xlGjiVZgrJVTxkE+ED8m3SjOytybIZNAnBszbry57SBOMZHT1BK9E5cDIONM0tMxTkKnVzIKwtNRxilFTFyyOMUiN/CtabUWPk77EaHnuZ24YHmMxDeQWIF3h0NUy/XUVUPbRK7gGyMyttPpQw6cyp04HQ2PgVpuGsUTm9YgYzSL7qpEm9zzIEFIMIYdzg65o+1ODjQxBeeFRAhn0NumdsPk/uTQJJAckoF8Yibu2jWYD9PJAQ5vkGc80fFdMa17PMQtWVwJHABfBsXNBMXNBMXNBMXNJNRqDijuMtWbrWoVg2rAQos1qnLTfJCiCAz3ixFSxPISJC0HSNF8qzgn4vEr+fnfGlI82hIVitp0k1gRM5TbGesq7dZXAlKts/9VXPSfL0LrPdv3OfNre7wlrghcCURegvbFZmDVFJsb1tFygD1Ogf/IlpAOLpbzx1taN/kTtDHRQrcydnW4EvrVi+sXyQ1vSsgVLbY3dCgHUONFMUCk/1xc8L6F63DPieiUaEmEl3ml/A36JttMp7+/La7s7d+Lo98gruWxZyS9NgNY2+pNS8cLarPJBvrpMIfiLuxlssNAVPvawTGu10PHRkWjuGY1jQtQ3CmO97YFcY69+yyOCA/nBGiIb9nAdjqXorhTlN8S1w1wSGO9IbF3Ual2DQ2yTyp03RSG4k7JGWd7r4YEB7jAB9351ueSkjK977r9CP5acWEsBP4EcdA9LRNUGVAVg+auSeNDpHIF07LDCPhKcbuS088Qdx3n4gRvTHANo45yFaZnTpkYrEBxR1wQ560JDYtJMkNjEjwlo+FCJ1eGUdyBc3GKwaYxTuDiCsbMjeaMRYXiTjkXJyHBiGH56r/zKzOFGZrLpSjuwJk4JxiTJMRcrIOuOn0CoCPjCsUdcaGr6vxZoQ7jYxwPN8er8GOGI9eBA+CZoLiZoLiZoLiZoLiZoLiZ3CqOFqt7YajUD2klQMY2lAMeU5wOZXLdooR9K7e37Wul3fe2HNA9pLhaQTracmHVbGt11VqAHUw5wD+kuBrcNLREGESxnUJXLTaL6MsBD9pVa+DJ4QCKmwmKmwmKmwmKmwmKm8mV4lT8OXXV67hSXGAm3zOB4g6ci2ta29LALNOGOWl3JX8lUNxXzsWF1godmUy5tmqNNN7naVsRxX3hQrEmwhssksilHQbuQkOlIoGjuC+clwfj4CnhNrWN61I31VXBYcJ7R445zzhNhSZKjmmm99MxtBzn2aO4AziOmwmKmwmKmwmKmwmKmwmKm8nN5cFyRWBVKTlUaw6mUnP4hilJ13FTlUvFyuzBuK3UqExfDjALrXJVxbW2SNqU263dpvIC2lUl4DHF1addlidV0lVt2uVQnnbJma/My/yGaZdXcfPJoXhwz8e44qGdDpVj/wNMu7wOPKvOBMXNBMXNBMXNBMXN5OpplxTLg1+4UpxJ45MDUdyBc3E88iQJ95xEo+Q0s1UGnAT3lQvlwa6V2jCdwJLgu/Ig2GOYcV+4UKzJE98MJ7zhZhgaFagIiowPL0ZxO5xyxPzpKVHq6OllgXFCEnPWuMHnJ+LkiXC2HR8GjeJ2iobn9foFvp7t55uKWziaqdhGRZqwf1Z5vmsaxR0wHy/5Lwy/vzZHbyogf8DkjqddOjVmJYrbIVdP+U9aP7XX/gKKmzAf2dumqUfuQHETY8o9+XrgBIrbY37fknAo7gCk3A0Jh+I+MX9uSDgU94nsu3rQAR6FLKGHUGyXohIQeFtZwqOIc5QfvdLlarJgq35VYngvNgNPlfbNcyVga+7m6oQvz4oulwddHgffm0X+mVAEQRAEQRAEQRAEQRAE+fH8AxZZ4zjMZ0QrAAAAAElFTkSuQmCC)"
      ],
      "metadata": {
        "id": "5d1uFLhQCjKl"
      }
    },
    {
      "cell_type": "markdown",
      "source": [
        "###Dot products\n",
        "\n",
        "####This is the same as multiplying two matrices. 2nd example is more multiplying by element."
      ],
      "metadata": {
        "id": "x-1Ze0VjaFYW"
      }
    },
    {
      "cell_type": "code",
      "execution_count": 139,
      "metadata": {
        "colab": {
          "base_uri": "https://localhost:8080/"
        },
        "id": "jurYC294ZXR8",
        "outputId": "430ed89d-70a1-427c-b84e-ee78d13b0fda"
      },
      "outputs": [
        {
          "output_type": "execute_result",
          "data": {
            "text/plain": [
              "array([[4, 1],\n",
              "       [2, 2]])"
            ]
          },
          "metadata": {},
          "execution_count": 139
        }
      ],
      "source": [
        "#REGULAR MATRICES\n",
        "a = [[1, 0], \n",
        "     [0, 1]]\n",
        "\n",
        "b = [[4, 1], \n",
        "     [2, 2]]\n",
        "np.dot(a, b)"
      ]
    },
    {
      "cell_type": "code",
      "source": [
        "#NUMPY MATRICES\n",
        "#Below, 1x0+2x1+3x0=2.\n",
        "\n",
        "a = np.array([1,2,3])\n",
        "b = np.array([0,1,0])\n",
        "np.dot(a, b) #scalar, for 1 D arrays\n"
      ],
      "metadata": {
        "colab": {
          "base_uri": "https://localhost:8080/"
        },
        "id": "JzMejszowsfk",
        "outputId": "90746974-4707-485b-9073-ce5afdb3ded7"
      },
      "execution_count": 141,
      "outputs": [
        {
          "output_type": "execute_result",
          "data": {
            "text/plain": [
              "2"
            ]
          },
          "metadata": {},
          "execution_count": 141
        }
      ]
    },
    {
      "cell_type": "code",
      "source": [
        "a = np.array([[1,2],[1,3]])\n",
        "b = np.array([[0,1],[1,3]])\n",
        "np.dot(a, b) #nonscalar, becomes matrix multiplication"
      ],
      "metadata": {
        "colab": {
          "base_uri": "https://localhost:8080/"
        },
        "id": "11OjLKgwHPKJ",
        "outputId": "2d700ef4-a190-45f4-cad4-7642373e9a62"
      },
      "execution_count": 147,
      "outputs": [
        {
          "output_type": "execute_result",
          "data": {
            "text/plain": [
              "array([[ 2,  7],\n",
              "       [ 3, 10]])"
            ]
          },
          "metadata": {},
          "execution_count": 147
        }
      ]
    },
    {
      "cell_type": "code",
      "source": [
        "np.dot(b,a) #b matrix times a matrix"
      ],
      "metadata": {
        "colab": {
          "base_uri": "https://localhost:8080/"
        },
        "id": "-HV-QVhKHjW7",
        "outputId": "f43a2d29-353e-47bd-db0b-d284f5012c8b"
      },
      "execution_count": 148,
      "outputs": [
        {
          "output_type": "execute_result",
          "data": {
            "text/plain": [
              "array([[ 1,  3],\n",
              "       [ 4, 11]])"
            ]
          },
          "metadata": {},
          "execution_count": 148
        }
      ]
    },
    {
      "cell_type": "code",
      "source": [
        "print(a @ b) #dot products with numpy matrices\n",
        "print(b @ a)"
      ],
      "metadata": {
        "colab": {
          "base_uri": "https://localhost:8080/"
        },
        "id": "3lrpxOxRG1rj",
        "outputId": "77591bce-32c4-4a99-bfba-993e3521adaf"
      },
      "execution_count": 149,
      "outputs": [
        {
          "output_type": "stream",
          "name": "stdout",
          "text": [
            "[[ 2  7]\n",
            " [ 3 10]]\n",
            "[[ 1  3]\n",
            " [ 4 11]]\n"
          ]
        }
      ]
    },
    {
      "cell_type": "markdown",
      "source": [
        "###Inner products \n",
        "####similar to dot product, this time its basically multiplying col 1 elements + multiplying col 2 elements, etc\n",
        "\n",
        "Below, 1x0+2x1+3x0=2.\n",
        "\n"
      ],
      "metadata": {
        "id": "cwx2oRhiambz"
      }
    },
    {
      "cell_type": "code",
      "source": [
        "a = np.array([1,2,3])\n",
        "b = np.array([0,1,0])\n",
        "np.inner(a, b)\n",
        "\n"
      ],
      "metadata": {
        "colab": {
          "base_uri": "https://localhost:8080/"
        },
        "id": "gyIk2gUOaoH3",
        "outputId": "d676c89b-bc0e-4a04-8124-f5f1d655bb2f"
      },
      "execution_count": 104,
      "outputs": [
        {
          "output_type": "execute_result",
          "data": {
            "text/plain": [
              "2"
            ]
          },
          "metadata": {},
          "execution_count": 104
        }
      ]
    },
    {
      "cell_type": "code",
      "source": [
        "a = np.arange(2).reshape((1,1,2))\n",
        "b = np.arange(6).reshape((3,2))\n",
        "c = np.inner(a, b)\n",
        "\n",
        "print(f\"a matrix: {a}\")\n",
        "print(f\"b matrix: {b}\")\n",
        "print(f\"resulting matrix: {c}\")\n",
        "#here, 0 from a is multiplied to 0, 2, 4 in b and 1 from a is multipled to 1, 3, 5 in b."
      ],
      "metadata": {
        "colab": {
          "base_uri": "https://localhost:8080/"
        },
        "id": "cMI_XsuNjAL-",
        "outputId": "47fb6e9c-398f-477c-d8e3-9b7375de03a4"
      },
      "execution_count": 15,
      "outputs": [
        {
          "output_type": "stream",
          "name": "stdout",
          "text": [
            "a matrix: [[[0 1]]]\n",
            "b matrix: [[0 1]\n",
            " [2 3]\n",
            " [4 5]]\n",
            "resulting matrix: [[[1 3 5]]]\n"
          ]
        }
      ]
    },
    {
      "cell_type": "markdown",
      "source": [
        "###matrix products\n",
        "\n",
        "####similar to the above"
      ],
      "metadata": {
        "id": "zoE7-nz7ko_C"
      }
    },
    {
      "cell_type": "code",
      "source": [
        "a = np.array([[1, 0],\n",
        "              [1, 1]])\n",
        "b = np.array([[4, 1],\n",
        "              [2, 2]])\n",
        "np.matmul(a, b)"
      ],
      "metadata": {
        "colab": {
          "base_uri": "https://localhost:8080/"
        },
        "id": "sw0jnTLrrCCN",
        "outputId": "ef0e8225-9d04-4bba-a57b-472a7f13a60f"
      },
      "execution_count": 11,
      "outputs": [
        {
          "output_type": "execute_result",
          "data": {
            "text/plain": [
              "array([[4, 1],\n",
              "       [6, 3]])"
            ]
          },
          "metadata": {},
          "execution_count": 11
        }
      ]
    },
    {
      "cell_type": "markdown",
      "source": [
        "###trace of matrix\n",
        "diagonal addition: 2+1=3"
      ],
      "metadata": {
        "id": "TBFG91Parnxn"
      }
    },
    {
      "cell_type": "code",
      "source": [
        "a=np.array([[2, 0],\n",
        "              [1, 1]])\n",
        "np.trace(a)"
      ],
      "metadata": {
        "colab": {
          "base_uri": "https://localhost:8080/"
        },
        "id": "HSOdrXtlrou1",
        "outputId": "888eac85-efe0-4c94-90f9-837f99a2600d"
      },
      "execution_count": 17,
      "outputs": [
        {
          "output_type": "execute_result",
          "data": {
            "text/plain": [
              "3"
            ]
          },
          "metadata": {},
          "execution_count": 17
        }
      ]
    },
    {
      "cell_type": "markdown",
      "source": [
        "###return diagonal of matrix\n",
        "\n"
      ],
      "metadata": {
        "id": "LScyTyl0xmaS"
      }
    },
    {
      "cell_type": "code",
      "source": [
        "x=np.array([[2, 0],\n",
        "              [1, 1]])\n",
        "np.diag(x)"
      ],
      "metadata": {
        "colab": {
          "base_uri": "https://localhost:8080/"
        },
        "id": "tqKJEmyTxpR3",
        "outputId": "3c31e137-33ed-4230-cf4a-6f86d543c309"
      },
      "execution_count": 18,
      "outputs": [
        {
          "output_type": "execute_result",
          "data": {
            "text/plain": [
              "array([2, 1])"
            ]
          },
          "metadata": {},
          "execution_count": 18
        }
      ]
    },
    {
      "cell_type": "markdown",
      "source": [
        "###transpose"
      ],
      "metadata": {
        "id": "KxvFri2ZyGCL"
      }
    },
    {
      "cell_type": "code",
      "source": [
        "a = np.array([[1, 2], [3, 4]])\n",
        "np.transpose(a)"
      ],
      "metadata": {
        "colab": {
          "base_uri": "https://localhost:8080/"
        },
        "id": "ealiGZ4fyErw",
        "outputId": "4106d2b5-70be-423a-8f2e-eb1c7f61eae5"
      },
      "execution_count": 19,
      "outputs": [
        {
          "output_type": "execute_result",
          "data": {
            "text/plain": [
              "array([[1, 3],\n",
              "       [2, 4]])"
            ]
          },
          "metadata": {},
          "execution_count": 19
        }
      ]
    },
    {
      "cell_type": "markdown",
      "source": [
        "###multiply scalar-ly or element-wise"
      ],
      "metadata": {
        "id": "1LGnPomxzH7a"
      }
    },
    {
      "cell_type": "code",
      "source": [
        "x1 = np.arange(9.0).reshape((3, 3))\n",
        "x2 = np.arange(3.0)\n",
        "x3= np.multiply(x1, x2)\n",
        "\n",
        "print(f\"x1: {x1}\")\n",
        "print(f\"x2: {x2}\")\n",
        "print(f\"result: {x3}\")\n",
        "\n",
        "#here, first col of x2 multiple with 1st row of x1, and so on\n",
        "\n",
        "#0 times 0,1,2 | 1 times 1,4,7 | 2 times 2,5,8"
      ],
      "metadata": {
        "colab": {
          "base_uri": "https://localhost:8080/"
        },
        "id": "8E6fz32kyjyw",
        "outputId": "71f405cd-56b9-4674-9e4c-52139e973ff0"
      },
      "execution_count": 21,
      "outputs": [
        {
          "output_type": "stream",
          "name": "stdout",
          "text": [
            "x1: [[0. 1. 2.]\n",
            " [3. 4. 5.]\n",
            " [6. 7. 8.]]\n",
            "x2: [0. 1. 2.]\n",
            "result: [[ 0.  1.  4.]\n",
            " [ 0.  4. 10.]\n",
            " [ 0.  7. 16.]]\n"
          ]
        }
      ]
    },
    {
      "cell_type": "markdown",
      "source": [
        "###find eigenvalues of matrix - outputted as an array of eigenvalues"
      ],
      "metadata": {
        "id": "Fq0LU4KE0rze"
      }
    },
    {
      "cell_type": "code",
      "source": [
        "from numpy import linalg as LA\n",
        "A = np.array([[2, 1, -2], [1,0, 0], [0,1,0]])\n",
        "LA.eigvals(A)\n"
      ],
      "metadata": {
        "colab": {
          "base_uri": "https://localhost:8080/"
        },
        "id": "XxB5Qlgr0QOA",
        "outputId": "b3fb0208-e879-407c-a59f-6d0bbe426c37"
      },
      "execution_count": 24,
      "outputs": [
        {
          "output_type": "execute_result",
          "data": {
            "text/plain": [
              "array([-1.,  2.,  1.])"
            ]
          },
          "metadata": {},
          "execution_count": 24
        }
      ]
    },
    {
      "cell_type": "markdown",
      "source": [
        "###determinants"
      ],
      "metadata": {
        "id": "Kx3ZBpjV0_Bv"
      }
    },
    {
      "cell_type": "code",
      "source": [
        "np.linalg.det(A)"
      ],
      "metadata": {
        "colab": {
          "base_uri": "https://localhost:8080/"
        },
        "id": "e_5gSxdw1AAH",
        "outputId": "3f807142-e4fd-48cd-8421-a012d3455b84"
      },
      "execution_count": 25,
      "outputs": [
        {
          "output_type": "execute_result",
          "data": {
            "text/plain": [
              "-2.0"
            ]
          },
          "metadata": {},
          "execution_count": 25
        }
      ]
    },
    {
      "cell_type": "markdown",
      "source": [
        "###rank\n",
        "\n",
        "####basically means after doing rref(matrix), count num of leading 1s"
      ],
      "metadata": {
        "id": "xPFw1hv_1TkX"
      }
    },
    {
      "cell_type": "code",
      "source": [
        "from numpy.linalg import matrix_rank\n",
        "matrix_rank(A)"
      ],
      "metadata": {
        "colab": {
          "base_uri": "https://localhost:8080/"
        },
        "id": "PfD8_Fxj1UY2",
        "outputId": "c6880161-e6ed-4370-de62-cad7e716326a"
      },
      "execution_count": 27,
      "outputs": [
        {
          "output_type": "execute_result",
          "data": {
            "text/plain": [
              "3"
            ]
          },
          "metadata": {},
          "execution_count": 27
        }
      ]
    },
    {
      "cell_type": "markdown",
      "source": [
        "###Solve the system of equations x0 + 2 * x1 = 1 and 3 * x0 + 5 * x1 = 2:"
      ],
      "metadata": {
        "id": "MSz4GEb42oGg"
      }
    },
    {
      "cell_type": "code",
      "source": [
        "a = np.array([[1, 2], [3, 5]]) #coefficients of each var\n",
        "b = np.array([1, 2]) #num to the right of equal sign\n",
        "x = np.linalg.solve(a, b)\n",
        "x"
      ],
      "metadata": {
        "colab": {
          "base_uri": "https://localhost:8080/"
        },
        "id": "tPi3wDyU2o44",
        "outputId": "ae8df730-0b95-4ac0-f068-768c3a7926c3"
      },
      "execution_count": 30,
      "outputs": [
        {
          "output_type": "execute_result",
          "data": {
            "text/plain": [
              "array([-1.,  1.])"
            ]
          },
          "metadata": {},
          "execution_count": 30
        }
      ]
    },
    {
      "cell_type": "code",
      "source": [
        "#check that solution is correct\n",
        "np.allclose(np.dot(a, x), b) #ax=b format"
      ],
      "metadata": {
        "colab": {
          "base_uri": "https://localhost:8080/"
        },
        "id": "NtCMPqv02vD7",
        "outputId": "29932e7d-4948-4f70-ae7a-077a86307624"
      },
      "execution_count": 31,
      "outputs": [
        {
          "output_type": "execute_result",
          "data": {
            "text/plain": [
              "True"
            ]
          },
          "metadata": {},
          "execution_count": 31
        }
      ]
    },
    {
      "cell_type": "markdown",
      "source": [
        "###calculate inverse of matrix"
      ],
      "metadata": {
        "id": "LYiamyic3HAP"
      }
    },
    {
      "cell_type": "code",
      "source": [
        "from numpy.linalg import inv\n",
        "a = np.array([[1., 2.], [3., 4.]])\n",
        "ainv = inv(a)\n",
        "ainv"
      ],
      "metadata": {
        "colab": {
          "base_uri": "https://localhost:8080/"
        },
        "id": "ckuzAeDK3I7c",
        "outputId": "4321e286-753a-4b73-b0a8-b4a1c16253b2"
      },
      "execution_count": 34,
      "outputs": [
        {
          "output_type": "execute_result",
          "data": {
            "text/plain": [
              "array([[-2. ,  1. ],\n",
              "       [ 1.5, -0.5]])"
            ]
          },
          "metadata": {},
          "execution_count": 34
        }
      ]
    },
    {
      "cell_type": "markdown",
      "source": [
        "### square a matrix"
      ],
      "metadata": {
        "id": "Lrb1-4QoWoon"
      }
    },
    {
      "cell_type": "code",
      "source": [
        "arr2=([[4,3],[2,3],[1,2]])\n",
        "np.square(arr2)"
      ],
      "metadata": {
        "colab": {
          "base_uri": "https://localhost:8080/"
        },
        "id": "GIGSzI4EWre1",
        "outputId": "9f69ea3f-4be1-48e5-f6e8-ad348a5bdff3"
      },
      "execution_count": 6,
      "outputs": [
        {
          "output_type": "execute_result",
          "data": {
            "text/plain": [
              "array([[16,  9],\n",
              "       [ 4,  9],\n",
              "       [ 1,  4]])"
            ]
          },
          "metadata": {},
          "execution_count": 6
        }
      ]
    },
    {
      "cell_type": "markdown",
      "source": [
        "###matrix to a power - square matrices only"
      ],
      "metadata": {
        "id": "gTJfgXlCh3z_"
      }
    },
    {
      "cell_type": "code",
      "source": [
        "from numpy.linalg import matrix_power\n",
        "arr2=([[4,3],[2,3]])\n",
        "matrix_power(arr2, 3)"
      ],
      "metadata": {
        "colab": {
          "base_uri": "https://localhost:8080/"
        },
        "id": "gVAb_C5Lh3Un",
        "outputId": "5d202b72-285a-41af-9df9-36265b2e38a1"
      },
      "execution_count": 10,
      "outputs": [
        {
          "output_type": "execute_result",
          "data": {
            "text/plain": [
              "array([[130, 129],\n",
              "       [ 86,  87]])"
            ]
          },
          "metadata": {},
          "execution_count": 10
        }
      ]
    },
    {
      "cell_type": "markdown",
      "source": [
        "###convert bases"
      ],
      "metadata": {
        "id": "2-3owT-dlicR"
      }
    },
    {
      "cell_type": "code",
      "source": [
        "B1 = np.array([[1,1],[2,3]])\n",
        "\n",
        "v1 = np.array([[3],[1]])\n",
        "v2 = B1 @ v1 #basically multiply 2 matrices\n",
        "v2\n",
        "\n"
      ],
      "metadata": {
        "colab": {
          "base_uri": "https://localhost:8080/"
        },
        "id": "xLwjioItmMn7",
        "outputId": "487705e5-cbe7-451c-ebe2-b5b2befe25df"
      },
      "execution_count": 20,
      "outputs": [
        {
          "output_type": "execute_result",
          "data": {
            "text/plain": [
              "array([[4],\n",
              "       [9]])"
            ]
          },
          "metadata": {},
          "execution_count": 20
        }
      ]
    },
    {
      "cell_type": "markdown",
      "source": [
        "##einsums\n",
        "\n",
        "basically a different way to write methods of linear algebra\n",
        "\n",
        "Evaluates the Einstein summation convention on the operands. Using the Einstein summation convention, many common multi-dimensional, linear algebraic array operations can be represented in a simple fashion.\n",
        "\n",
        "np.einsum('i,i', a, b) is equivalent to np.inner(a,b)."
      ],
      "metadata": {
        "id": "zV0rrJikz9_c"
      }
    },
    {
      "cell_type": "code",
      "source": [
        "#np.einsum('ii', a) is equivalent to np.trace(a).\n",
        "a = np.array([[1., 2.], [3., 4.]])\n",
        "np.einsum('ii', a)"
      ],
      "metadata": {
        "colab": {
          "base_uri": "https://localhost:8080/"
        },
        "id": "EHTR17PU3vYt",
        "outputId": "eb2e4955-8946-4b2d-eb85-0e05ca4262c0"
      },
      "execution_count": 38,
      "outputs": [
        {
          "output_type": "execute_result",
          "data": {
            "text/plain": [
              "5.0"
            ]
          },
          "metadata": {},
          "execution_count": 38
        }
      ]
    },
    {
      "cell_type": "code",
      "source": [
        "#transpose\n",
        "np.einsum('ji', a)"
      ],
      "metadata": {
        "colab": {
          "base_uri": "https://localhost:8080/"
        },
        "id": "-IEF8-QI4ApR",
        "outputId": "40831f19-0296-465e-bf65-e2d0b87a1ae9"
      },
      "execution_count": 39,
      "outputs": [
        {
          "output_type": "execute_result",
          "data": {
            "text/plain": [
              "array([[1., 3.],\n",
              "       [2., 4.]])"
            ]
          },
          "metadata": {},
          "execution_count": 39
        }
      ]
    },
    {
      "cell_type": "code",
      "source": [
        "#inner product (basically, 1st elem of 1st matrix*1st elem of 2nd matrix + 2nd el 1st mat*2nd el 2nd mat)\n",
        "b = np.arange(5)\n",
        "print(b)\n",
        "np.einsum('i,i', b,b)"
      ],
      "metadata": {
        "colab": {
          "base_uri": "https://localhost:8080/"
        },
        "id": "fjH-AGJv4HRc",
        "outputId": "37671419-281d-4c66-8308-d3fc60d9d2d2"
      },
      "execution_count": 43,
      "outputs": [
        {
          "output_type": "stream",
          "name": "stdout",
          "text": [
            "[0 1 2 3 4]\n"
          ]
        },
        {
          "output_type": "execute_result",
          "data": {
            "text/plain": [
              "30"
            ]
          },
          "metadata": {},
          "execution_count": 43
        }
      ]
    },
    {
      "cell_type": "code",
      "source": [
        "#matrix multiplication a*b\n",
        "a = np.arange(9).reshape(3,3)\n",
        "b = np.arange(3)\n",
        "print(a)\n",
        "print(b)\n",
        "np.einsum('ij,j', a, b)"
      ],
      "metadata": {
        "colab": {
          "base_uri": "https://localhost:8080/"
        },
        "id": "AMZQtFsr4qAO",
        "outputId": "1303e899-2e6e-4acc-c017-88f7171c56f2"
      },
      "execution_count": 50,
      "outputs": [
        {
          "output_type": "stream",
          "name": "stdout",
          "text": [
            "[[0 1 2]\n",
            " [3 4 5]\n",
            " [6 7 8]]\n",
            "[0 1 2]\n"
          ]
        },
        {
          "output_type": "execute_result",
          "data": {
            "text/plain": [
              "array([ 5, 14, 23])"
            ]
          },
          "metadata": {},
          "execution_count": 50
        }
      ]
    },
    {
      "cell_type": "code",
      "source": [
        "#output diagonal - in this case diagonal is 0 4 8\n",
        "a = np.arange(9).reshape(3,3)\n",
        "print(a)\n",
        "np.einsum('ii->i', a)\n"
      ],
      "metadata": {
        "colab": {
          "base_uri": "https://localhost:8080/"
        },
        "id": "Y2ay5tQi5AQ-",
        "outputId": "cea7b8ff-928c-44e6-ed67-b3cf8d4ba4cd"
      },
      "execution_count": 53,
      "outputs": [
        {
          "output_type": "stream",
          "name": "stdout",
          "text": [
            "[[0 1 2]\n",
            " [3 4 5]\n",
            " [6 7 8]]\n"
          ]
        },
        {
          "output_type": "execute_result",
          "data": {
            "text/plain": [
              "array([0, 4, 8])"
            ]
          },
          "metadata": {},
          "execution_count": 53
        }
      ]
    },
    {
      "cell_type": "markdown",
      "source": [
        "##FFT\n",
        "https://pythonnumericalmethods.berkeley.edu/notebooks/chapter24.04-FFT-in-Python.html\n",
        "\n",
        "\n",
        "converts a signal from its original domain (often time or space) to a representation in the frequency domain \n",
        "\n",
        "convert a digital signal (x) with length (N) from the time domain into a signal in the frequency domain (X)\n",
        "\n",
        "inverse FFT to obtain the original signal"
      ],
      "metadata": {
        "id": "JKvKplsBpm3H"
      }
    },
    {
      "cell_type": "code",
      "source": [
        "import matplotlib.pyplot as plt\n",
        "import numpy as np\n",
        "\n",
        "plt.style.use('seaborn-poster')\n",
        "%matplotlib inline\n",
        "# sampling rate\n",
        "sr = 2000\n",
        "# sampling interval\n",
        "ts = 1.0/sr\n",
        "t = np.arange(0,1,ts)\n",
        "\n",
        "freq = 1.\n",
        "x = 3*np.sin(2*np.pi*freq*t)\n",
        "\n",
        "freq = 4\n",
        "x += np.sin(2*np.pi*freq*t)\n",
        "\n",
        "freq = 7   \n",
        "x += 0.5* np.sin(2*np.pi*freq*t)\n",
        "\n",
        "plt.figure(figsize = (8, 6))\n",
        "plt.plot(t, x, 'r')\n",
        "plt.ylabel('Amplitude')\n",
        "\n",
        "plt.show()\n"
      ],
      "metadata": {
        "colab": {
          "base_uri": "https://localhost:8080/",
          "height": 387
        },
        "id": "nhcbwZngrMAf",
        "outputId": "1b1c74ca-db18-4989-970e-c27e86d1c5bc"
      },
      "execution_count": 21,
      "outputs": [
        {
          "output_type": "display_data",
          "data": {
            "text/plain": [
              "<Figure size 576x432 with 1 Axes>"
            ],
            "image/png": "[encoded data removed]"
          },
          "metadata": {
            "needs_background": "light"
          }
        }
      ]
    },
    {
      "cell_type": "code",
      "source": [
        "x"
      ],
      "metadata": {
        "colab": {
          "base_uri": "https://localhost:8080/"
        },
        "id": "2Lqae3ttr90D",
        "outputId": "2a72040f-8840-46df-c085-11d094f3226a"
      },
      "execution_count": 26,
      "outputs": [
        {
          "output_type": "execute_result",
          "data": {
            "text/plain": [
              "array([ 0.        ,  0.03298549,  0.06596359, ..., -0.0989269 ,\n",
              "       -0.06596359, -0.03298549])"
            ]
          },
          "metadata": {},
          "execution_count": 26
        }
      ]
    },
    {
      "cell_type": "code",
      "source": [
        "from numpy.fft import fft, ifft #FFT and inverse FFT\n",
        "\n",
        "X = fft(x) #signal array in FFT form\n",
        "N = len(X) #length of the fft array - 2000 length signal\n",
        "n = np.arange(N) #n is an array of numbers from 1-1999\n",
        "T = N/sr #divide by sampling rate to get period\n",
        "freq = n/T \n",
        "\n",
        "plt.figure(figsize = (12, 6))\n",
        "plt.subplot(121)\n",
        "\n",
        "plt.title('After FFT')\n",
        "plt.stem(freq, np.abs(X), 'b', \\\n",
        "         markerfmt=\" \", basefmt=\"-b\")\n",
        "plt.xlabel('Freq (Hz)')\n",
        "plt.ylabel('FFT Amplitude |X(freq)|')\n",
        "plt.xlim(0, 10)\n",
        "\n",
        "plt.subplot(122)\n",
        "plt.title('Reversed FFT (original signal)')\n",
        "plt.plot(t, ifft(X), 'r')\n",
        "plt.xlabel('Time (s)')\n",
        "plt.ylabel('Amplitude')\n",
        "plt.tight_layout()\n",
        "plt.show()"
      ],
      "metadata": {
        "colab": {
          "base_uri": "https://localhost:8080/",
          "height": 534
        },
        "id": "QcmCKHcXrIGo",
        "outputId": "2f26d6e2-5219-4c7c-e2b7-2f7894deaee4"
      },
      "execution_count": 23,
      "outputs": [
        {
          "output_type": "stream",
          "name": "stderr",
          "text": [
            "<ipython-input-23-d9be6ad12920>:13: UserWarning: In Matplotlib 3.3 individual lines on a stem plot will be added as a LineCollection instead of individual lines. This significantly improves the performance of a stem plot. To remove this warning and switch to the new behaviour, set the \"use_line_collection\" keyword argument to True.\n",
            "  plt.stem(freq, np.abs(X), 'b', \\\n",
            "/usr/local/lib/python3.8/dist-packages/matplotlib/cbook/__init__.py:1317: ComplexWarning: Casting complex values to real discards the imaginary part\n",
            "  return np.asarray(x, float)\n"
          ]
        },
        {
          "output_type": "display_data",
          "data": {
            "text/plain": [
              "<Figure size 864x432 with 2 Axes>"
            ],
            "image/png": "[encoded data removed]"
          },
          "metadata": {
            "needs_background": "light"
          }
        }
      ]
    },
    {
      "cell_type": "code",
      "source": [
        "n"
      ],
      "metadata": {
        "colab": {
          "base_uri": "https://localhost:8080/"
        },
        "id": "-nOsMhqNr2Lp",
        "outputId": "9a73891c-5a64-4b07-e464-59406f8fbe36"
      },
      "execution_count": 27,
      "outputs": [
        {
          "output_type": "execute_result",
          "data": {
            "text/plain": [
              "array([   0,    1,    2, ..., 1997, 1998, 1999])"
            ]
          },
          "metadata": {},
          "execution_count": 27
        }
      ]
    }
  ]
}