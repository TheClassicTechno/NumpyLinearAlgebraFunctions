{
  "nbformat": 4,
  "nbformat_minor": 0,
  "metadata": {
    "colab": {
      "provenance": [],
      "authorship_tag": "ABX9TyM23hcv9PXpwBT/XbmFEAEp",
      "include_colab_link": true
    },
    "kernelspec": {
      "name": "python3",
      "display_name": "Python 3"
    },
    "language_info": {
      "name": "python"
    }
  },
  "cells": [
    {
      "cell_type": "markdown",
      "metadata": {
        "id": "view-in-github",
        "colab_type": "text"
      },
      "source": [
        "<a href=\"https://colab.research.google.com/github/TheClassicTechno/NumpyLinearAlgebraFunctions/blob/main/Linear_Algebra_Numpy_Functions.ipynb\" target=\"_parent\"><img src=\"https://colab.research.google.com/assets/colab-badge.svg\" alt=\"Open In Colab\"/></a>"
      ]
    },
    {
      "cell_type": "markdown",
      "source": [
        "#Linear Algebra Numpy Functions\n",
        "\n",
        "##by Julia Huang\n",
        "\n",
        "##as I have just finished my college-level linear algebra course, in order to improve my knowledge of both linear algebra and the Python Numpy library, I have tested some of these numpy functions below with linear algebra tasks.\n",
        "\n",
        "numpy link: https://numpy.org/doc/stable/reference/generated/numpy.linalg.eig.html"
      ],
      "metadata": {
        "id": "L3uCWxEFZ1xL"
      }
    },
    {
      "cell_type": "markdown",
      "source": [
        "###Dot products\n",
        "\n",
        "####This is the same as multiplying two matrices."
      ],
      "metadata": {
        "id": "x-1Ze0VjaFYW"
      }
    },
    {
      "cell_type": "code",
      "source": [
        "import numpy as np"
      ],
      "metadata": {
        "id": "KvRmEvKuaPo_"
      },
      "execution_count": 2,
      "outputs": []
    },
    {
      "cell_type": "code",
      "execution_count": 3,
      "metadata": {
        "colab": {
          "base_uri": "https://localhost:8080/"
        },
        "id": "jurYC294ZXR8",
        "outputId": "1f24b57a-8376-4c8f-acb1-7ec1e8d7594e"
      },
      "outputs": [
        {
          "output_type": "execute_result",
          "data": {
            "text/plain": [
              "array([[4, 1],\n",
              "       [2, 2]])"
            ]
          },
          "metadata": {},
          "execution_count": 3
        }
      ],
      "source": [
        "a = [[1, 0], \n",
        "     [0, 1]]\n",
        "     \n",
        "b = [[4, 1], \n",
        "     [2, 2]]\n",
        "np.dot(a, b)"
      ]
    },
    {
      "cell_type": "markdown",
      "source": [
        "###Inner products \n",
        "####similar to dot product, this time its basically multiplying col 1 elements + multiplying col 2 elements, etc\n",
        "\n",
        "Below, 1x0+2x1+3x0=2.\n",
        "\n"
      ],
      "metadata": {
        "id": "cwx2oRhiambz"
      }
    },
    {
      "cell_type": "code",
      "source": [
        "a = np.array([1,2,3])\n",
        "b = np.array([0,1,0])\n",
        "np.inner(a, b)"
      ],
      "metadata": {
        "colab": {
          "base_uri": "https://localhost:8080/"
        },
        "id": "gyIk2gUOaoH3",
        "outputId": "a0848b1d-0f37-491a-f122-b594f7dc74c8"
      },
      "execution_count": 6,
      "outputs": [
        {
          "output_type": "execute_result",
          "data": {
            "text/plain": [
              "2"
            ]
          },
          "metadata": {},
          "execution_count": 6
        }
      ]
    },
    {
      "cell_type": "code",
      "source": [
        "a = np.arange(2).reshape((1,1,2))\n",
        "b = np.arange(6).reshape((3,2))\n",
        "c = np.inner(a, b)\n",
        "\n",
        "print(f\"a matrix: {a}\")\n",
        "print(f\"b matrix: {b}\")\n",
        "print(f\"resulting matrix: {c}\")\n",
        "#here, 0 from a is multiplied to 0, 2, 4 in b and 1 from a is multipled to 1, 3, 5 in b."
      ],
      "metadata": {
        "colab": {
          "base_uri": "https://localhost:8080/"
        },
        "id": "cMI_XsuNjAL-",
        "outputId": "47fb6e9c-398f-477c-d8e3-9b7375de03a4"
      },
      "execution_count": 15,
      "outputs": [
        {
          "output_type": "stream",
          "name": "stdout",
          "text": [
            "a matrix: [[[0 1]]]\n",
            "b matrix: [[0 1]\n",
            " [2 3]\n",
            " [4 5]]\n",
            "resulting matrix: [[[1 3 5]]]\n"
          ]
        }
      ]
    },
    {
      "cell_type": "markdown",
      "source": [
        "###matrix products\n",
        "\n",
        "####similar to the above"
      ],
      "metadata": {
        "id": "zoE7-nz7ko_C"
      }
    },
    {
      "cell_type": "code",
      "source": [
        "a = np.array([[1, 0],\n",
        "              [1, 1]])\n",
        "b = np.array([[4, 1],\n",
        "              [2, 2]])\n",
        "np.matmul(a, b)"
      ],
      "metadata": {
        "colab": {
          "base_uri": "https://localhost:8080/"
        },
        "id": "sw0jnTLrrCCN",
        "outputId": "ef0e8225-9d04-4bba-a57b-472a7f13a60f"
      },
      "execution_count": 11,
      "outputs": [
        {
          "output_type": "execute_result",
          "data": {
            "text/plain": [
              "array([[4, 1],\n",
              "       [6, 3]])"
            ]
          },
          "metadata": {},
          "execution_count": 11
        }
      ]
    },
    {
      "cell_type": "markdown",
      "source": [
        "###trace of matrix\n",
        "diagonal addition: 2+1=3"
      ],
      "metadata": {
        "id": "TBFG91Parnxn"
      }
    },
    {
      "cell_type": "code",
      "source": [
        "a=np.array([[2, 0],\n",
        "              [1, 1]])\n",
        "np.trace(a)"
      ],
      "metadata": {
        "colab": {
          "base_uri": "https://localhost:8080/"
        },
        "id": "HSOdrXtlrou1",
        "outputId": "888eac85-efe0-4c94-90f9-837f99a2600d"
      },
      "execution_count": 17,
      "outputs": [
        {
          "output_type": "execute_result",
          "data": {
            "text/plain": [
              "3"
            ]
          },
          "metadata": {},
          "execution_count": 17
        }
      ]
    },
    {
      "cell_type": "markdown",
      "source": [
        "###return diagonal of matrix\n",
        "\n"
      ],
      "metadata": {
        "id": "LScyTyl0xmaS"
      }
    },
    {
      "cell_type": "code",
      "source": [
        "x=np.array([[2, 0],\n",
        "              [1, 1]])\n",
        "np.diag(x)"
      ],
      "metadata": {
        "colab": {
          "base_uri": "https://localhost:8080/"
        },
        "id": "tqKJEmyTxpR3",
        "outputId": "3c31e137-33ed-4230-cf4a-6f86d543c309"
      },
      "execution_count": 18,
      "outputs": [
        {
          "output_type": "execute_result",
          "data": {
            "text/plain": [
              "array([2, 1])"
            ]
          },
          "metadata": {},
          "execution_count": 18
        }
      ]
    },
    {
      "cell_type": "markdown",
      "source": [
        "###transpose"
      ],
      "metadata": {
        "id": "KxvFri2ZyGCL"
      }
    },
    {
      "cell_type": "code",
      "source": [
        "a = np.array([[1, 2], [3, 4]])\n",
        "np.transpose(a)"
      ],
      "metadata": {
        "colab": {
          "base_uri": "https://localhost:8080/"
        },
        "id": "ealiGZ4fyErw",
        "outputId": "4106d2b5-70be-423a-8f2e-eb1c7f61eae5"
      },
      "execution_count": 19,
      "outputs": [
        {
          "output_type": "execute_result",
          "data": {
            "text/plain": [
              "array([[1, 3],\n",
              "       [2, 4]])"
            ]
          },
          "metadata": {},
          "execution_count": 19
        }
      ]
    },
    {
      "cell_type": "markdown",
      "source": [
        "###multiply scalar-ly or element-wise"
      ],
      "metadata": {
        "id": "1LGnPomxzH7a"
      }
    },
    {
      "cell_type": "code",
      "source": [
        "x1 = np.arange(9.0).reshape((3, 3))\n",
        "x2 = np.arange(3.0)\n",
        "x3= np.multiply(x1, x2)\n",
        "\n",
        "print(f\"x1: {x1}\")\n",
        "print(f\"x2: {x2}\")\n",
        "print(f\"result: {x3}\")\n",
        "\n",
        "#here, first col of x2 multiple with 1st row of x1, and so on\n",
        "\n",
        "#0 times 0,1,2 | 1 times 1,4,7 | 2 times 2,5,8"
      ],
      "metadata": {
        "colab": {
          "base_uri": "https://localhost:8080/"
        },
        "id": "8E6fz32kyjyw",
        "outputId": "71f405cd-56b9-4674-9e4c-52139e973ff0"
      },
      "execution_count": 21,
      "outputs": [
        {
          "output_type": "stream",
          "name": "stdout",
          "text": [
            "x1: [[0. 1. 2.]\n",
            " [3. 4. 5.]\n",
            " [6. 7. 8.]]\n",
            "x2: [0. 1. 2.]\n",
            "result: [[ 0.  1.  4.]\n",
            " [ 0.  4. 10.]\n",
            " [ 0.  7. 16.]]\n"
          ]
        }
      ]
    },
    {
      "cell_type": "markdown",
      "source": [
        "###find eigenvalues of matrix - outputted as an array of eigenvalues"
      ],
      "metadata": {
        "id": "Fq0LU4KE0rze"
      }
    },
    {
      "cell_type": "code",
      "source": [
        "from numpy import linalg as LA\n",
        "A = np.array([[2, 1, -2], [1,0, 0], [0,1,0]])\n",
        "LA.eigvals(A)\n"
      ],
      "metadata": {
        "colab": {
          "base_uri": "https://localhost:8080/"
        },
        "id": "XxB5Qlgr0QOA",
        "outputId": "b3fb0208-e879-407c-a59f-6d0bbe426c37"
      },
      "execution_count": 24,
      "outputs": [
        {
          "output_type": "execute_result",
          "data": {
            "text/plain": [
              "array([-1.,  2.,  1.])"
            ]
          },
          "metadata": {},
          "execution_count": 24
        }
      ]
    },
    {
      "cell_type": "markdown",
      "source": [
        "###determinants"
      ],
      "metadata": {
        "id": "Kx3ZBpjV0_Bv"
      }
    },
    {
      "cell_type": "code",
      "source": [
        "np.linalg.det(A)"
      ],
      "metadata": {
        "colab": {
          "base_uri": "https://localhost:8080/"
        },
        "id": "e_5gSxdw1AAH",
        "outputId": "3f807142-e4fd-48cd-8421-a012d3455b84"
      },
      "execution_count": 25,
      "outputs": [
        {
          "output_type": "execute_result",
          "data": {
            "text/plain": [
              "-2.0"
            ]
          },
          "metadata": {},
          "execution_count": 25
        }
      ]
    },
    {
      "cell_type": "markdown",
      "source": [
        "###rank\n",
        "\n",
        "####basically means after doing rref(matrix), count num of leading 1s"
      ],
      "metadata": {
        "id": "xPFw1hv_1TkX"
      }
    },
    {
      "cell_type": "code",
      "source": [
        "from numpy.linalg import matrix_rank\n",
        "matrix_rank(A)"
      ],
      "metadata": {
        "colab": {
          "base_uri": "https://localhost:8080/"
        },
        "id": "PfD8_Fxj1UY2",
        "outputId": "c6880161-e6ed-4370-de62-cad7e716326a"
      },
      "execution_count": 27,
      "outputs": [
        {
          "output_type": "execute_result",
          "data": {
            "text/plain": [
              "3"
            ]
          },
          "metadata": {},
          "execution_count": 27
        }
      ]
    },
    {
      "cell_type": "markdown",
      "source": [
        "###Solve the system of equations x0 + 2 * x1 = 1 and 3 * x0 + 5 * x1 = 2:"
      ],
      "metadata": {
        "id": "MSz4GEb42oGg"
      }
    },
    {
      "cell_type": "code",
      "source": [
        "a = np.array([[1, 2], [3, 5]]) #coefficients of each var\n",
        "b = np.array([1, 2]) #num to the right of equal sign\n",
        "x = np.linalg.solve(a, b)\n",
        "x"
      ],
      "metadata": {
        "colab": {
          "base_uri": "https://localhost:8080/"
        },
        "id": "tPi3wDyU2o44",
        "outputId": "ae8df730-0b95-4ac0-f068-768c3a7926c3"
      },
      "execution_count": 30,
      "outputs": [
        {
          "output_type": "execute_result",
          "data": {
            "text/plain": [
              "array([-1.,  1.])"
            ]
          },
          "metadata": {},
          "execution_count": 30
        }
      ]
    },
    {
      "cell_type": "code",
      "source": [
        "#check that solution is correct\n",
        "np.allclose(np.dot(a, x), b) #ax=b format"
      ],
      "metadata": {
        "colab": {
          "base_uri": "https://localhost:8080/"
        },
        "id": "NtCMPqv02vD7",
        "outputId": "29932e7d-4948-4f70-ae7a-077a86307624"
      },
      "execution_count": 31,
      "outputs": [
        {
          "output_type": "execute_result",
          "data": {
            "text/plain": [
              "True"
            ]
          },
          "metadata": {},
          "execution_count": 31
        }
      ]
    },
    {
      "cell_type": "markdown",
      "source": [
        "###calculate inverse of matrix"
      ],
      "metadata": {
        "id": "LYiamyic3HAP"
      }
    },
    {
      "cell_type": "code",
      "source": [
        "from numpy.linalg import inv\n",
        "a = np.array([[1., 2.], [3., 4.]])\n",
        "ainv = inv(a)\n",
        "ainv"
      ],
      "metadata": {
        "colab": {
          "base_uri": "https://localhost:8080/"
        },
        "id": "ckuzAeDK3I7c",
        "outputId": "4321e286-753a-4b73-b0a8-b4a1c16253b2"
      },
      "execution_count": 34,
      "outputs": [
        {
          "output_type": "execute_result",
          "data": {
            "text/plain": [
              "array([[-2. ,  1. ],\n",
              "       [ 1.5, -0.5]])"
            ]
          },
          "metadata": {},
          "execution_count": 34
        }
      ]
    },
    {
      "cell_type": "markdown",
      "source": [
        "### square a matrix"
      ],
      "metadata": {
        "id": "Lrb1-4QoWoon"
      }
    },
    {
      "cell_type": "code",
      "source": [
        "arr2=([[4,3],[2,3],[1,2]])\n",
        "np.square(arr2)"
      ],
      "metadata": {
        "colab": {
          "base_uri": "https://localhost:8080/"
        },
        "id": "GIGSzI4EWre1",
        "outputId": "9f69ea3f-4be1-48e5-f6e8-ad348a5bdff3"
      },
      "execution_count": 6,
      "outputs": [
        {
          "output_type": "execute_result",
          "data": {
            "text/plain": [
              "array([[16,  9],\n",
              "       [ 4,  9],\n",
              "       [ 1,  4]])"
            ]
          },
          "metadata": {},
          "execution_count": 6
        }
      ]
    },
    {
      "cell_type": "markdown",
      "source": [
        "###matrix to a power - square matrices only"
      ],
      "metadata": {
        "id": "gTJfgXlCh3z_"
      }
    },
    {
      "cell_type": "code",
      "source": [
        "from numpy.linalg import matrix_power\n",
        "arr2=([[4,3],[2,3]])\n",
        "matrix_power(arr2, 3)"
      ],
      "metadata": {
        "colab": {
          "base_uri": "https://localhost:8080/"
        },
        "id": "gVAb_C5Lh3Un",
        "outputId": "5d202b72-285a-41af-9df9-36265b2e38a1"
      },
      "execution_count": 10,
      "outputs": [
        {
          "output_type": "execute_result",
          "data": {
            "text/plain": [
              "array([[130, 129],\n",
              "       [ 86,  87]])"
            ]
          },
          "metadata": {},
          "execution_count": 10
        }
      ]
    },
    {
      "cell_type": "markdown",
      "source": [
        "###convert bases"
      ],
      "metadata": {
        "id": "2-3owT-dlicR"
      }
    },
    {
      "cell_type": "code",
      "source": [
        "B1 = np.array([[1,1],[2,3]])\n",
        "\n",
        "v1 = np.array([[3],[1]])\n",
        "v2 = B1 @ v1 #basically multiply 2 matrices\n",
        "v2\n",
        "\n"
      ],
      "metadata": {
        "colab": {
          "base_uri": "https://localhost:8080/"
        },
        "id": "xLwjioItmMn7",
        "outputId": "487705e5-cbe7-451c-ebe2-b5b2befe25df"
      },
      "execution_count": 20,
      "outputs": [
        {
          "output_type": "execute_result",
          "data": {
            "text/plain": [
              "array([[4],\n",
              "       [9]])"
            ]
          },
          "metadata": {},
          "execution_count": 20
        }
      ]
    },
    {
      "cell_type": "markdown",
      "source": [
        "##einsums\n",
        "\n",
        "basically a different way to write methods of linear algebra\n",
        "\n",
        "Evaluates the Einstein summation convention on the operands. Using the Einstein summation convention, many common multi-dimensional, linear algebraic array operations can be represented in a simple fashion.\n",
        "\n",
        "np.einsum('i,i', a, b) is equivalent to np.inner(a,b)."
      ],
      "metadata": {
        "id": "zV0rrJikz9_c"
      }
    },
    {
      "cell_type": "code",
      "source": [
        "#np.einsum('ii', a) is equivalent to np.trace(a).\n",
        "a = np.array([[1., 2.], [3., 4.]])\n",
        "np.einsum('ii', a)"
      ],
      "metadata": {
        "colab": {
          "base_uri": "https://localhost:8080/"
        },
        "id": "EHTR17PU3vYt",
        "outputId": "eb2e4955-8946-4b2d-eb85-0e05ca4262c0"
      },
      "execution_count": 38,
      "outputs": [
        {
          "output_type": "execute_result",
          "data": {
            "text/plain": [
              "5.0"
            ]
          },
          "metadata": {},
          "execution_count": 38
        }
      ]
    },
    {
      "cell_type": "code",
      "source": [
        "#transpose\n",
        "np.einsum('ji', a)"
      ],
      "metadata": {
        "colab": {
          "base_uri": "https://localhost:8080/"
        },
        "id": "-IEF8-QI4ApR",
        "outputId": "40831f19-0296-465e-bf65-e2d0b87a1ae9"
      },
      "execution_count": 39,
      "outputs": [
        {
          "output_type": "execute_result",
          "data": {
            "text/plain": [
              "array([[1., 3.],\n",
              "       [2., 4.]])"
            ]
          },
          "metadata": {},
          "execution_count": 39
        }
      ]
    },
    {
      "cell_type": "code",
      "source": [
        "#inner product (basically, 1st elem of 1st matrix*1st elem of 2nd matrix + 2nd el 1st mat*2nd el 2nd mat)\n",
        "b = np.arange(5)\n",
        "print(b)\n",
        "np.einsum('i,i', b,b)"
      ],
      "metadata": {
        "colab": {
          "base_uri": "https://localhost:8080/"
        },
        "id": "fjH-AGJv4HRc",
        "outputId": "37671419-281d-4c66-8308-d3fc60d9d2d2"
      },
      "execution_count": 43,
      "outputs": [
        {
          "output_type": "stream",
          "name": "stdout",
          "text": [
            "[0 1 2 3 4]\n"
          ]
        },
        {
          "output_type": "execute_result",
          "data": {
            "text/plain": [
              "30"
            ]
          },
          "metadata": {},
          "execution_count": 43
        }
      ]
    },
    {
      "cell_type": "code",
      "source": [
        "#matrix multiplication a*b\n",
        "a = np.arange(9).reshape(3,3)\n",
        "b = np.arange(3)\n",
        "print(a)\n",
        "print(b)\n",
        "np.einsum('ij,j', a, b)"
      ],
      "metadata": {
        "colab": {
          "base_uri": "https://localhost:8080/"
        },
        "id": "AMZQtFsr4qAO",
        "outputId": "1303e899-2e6e-4acc-c017-88f7171c56f2"
      },
      "execution_count": 50,
      "outputs": [
        {
          "output_type": "stream",
          "name": "stdout",
          "text": [
            "[[0 1 2]\n",
            " [3 4 5]\n",
            " [6 7 8]]\n",
            "[0 1 2]\n"
          ]
        },
        {
          "output_type": "execute_result",
          "data": {
            "text/plain": [
              "array([ 5, 14, 23])"
            ]
          },
          "metadata": {},
          "execution_count": 50
        }
      ]
    },
    {
      "cell_type": "code",
      "source": [
        "#output diagonal - in this case diagonal is 0 4 8\n",
        "a = np.arange(9).reshape(3,3)\n",
        "print(a)\n",
        "np.einsum('ii->i', a)\n"
      ],
      "metadata": {
        "colab": {
          "base_uri": "https://localhost:8080/"
        },
        "id": "Y2ay5tQi5AQ-",
        "outputId": "cea7b8ff-928c-44e6-ed67-b3cf8d4ba4cd"
      },
      "execution_count": 53,
      "outputs": [
        {
          "output_type": "stream",
          "name": "stdout",
          "text": [
            "[[0 1 2]\n",
            " [3 4 5]\n",
            " [6 7 8]]\n"
          ]
        },
        {
          "output_type": "execute_result",
          "data": {
            "text/plain": [
              "array([0, 4, 8])"
            ]
          },
          "metadata": {},
          "execution_count": 53
        }
      ]
    },
    {
      "cell_type": "markdown",
      "source": [
        "##FFT\n",
        "https://pythonnumericalmethods.berkeley.edu/notebooks/chapter24.04-FFT-in-Python.html\n",
        "\n",
        "\n",
        "converts a signal from its original domain (often time or space) to a representation in the frequency domain \n",
        "\n",
        "convert a digital signal (x) with length (N) from the time domain into a signal in the frequency domain (X)\n",
        "\n",
        "inverse FFT to obtain the original signal"
      ],
      "metadata": {
        "id": "JKvKplsBpm3H"
      }
    }
  ]
}